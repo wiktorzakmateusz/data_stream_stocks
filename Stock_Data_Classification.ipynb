{
 "cells": [
  {
   "cell_type": "code",
   "execution_count": null,
   "id": "c86172bf",
   "metadata": {},
   "outputs": [],
   "source": [
    "import pandas as pd\n",
    "from DataLoader import DataLoader\n",
    "from river import stream\n",
    "from river import tree\n",
    "from river import metrics\n",
    "from river import preprocessing\n",
    "from river import feature_selection\n",
    "from river import drift\n",
    "from river import stats\n",
    "\n",
    "class StockPredictor:\n",
    "\n",
    "    def __init__(self, stock_data, drift_name, provided_detector=None):\n",
    "        self.stock_data = stock_data\n",
    "        self.data_stream = StockPredictor.ohlc_stream(stock_data)\n",
    "        self.pipeline = StockPredictor.get_pipeline()\n",
    "        self.drift_name = drift_name\n",
    "        if isinstance(provided_detector, str):\n",
    "            self.drift_detector = StockPredictor.get_drift_detector(drift_name)\n",
    "        else:\n",
    "            self.drift_detector = provided_detector\n",
    "        self.metric = metrics.ClassificationReport()\n",
    "\n",
    "    @staticmethod\n",
    "    def ohlc_stream(df):\n",
    "        for _, row in df.iterrows():\n",
    "            features = row.iloc[:-1].to_dict()\n",
    "            yield features, row['target']\n",
    "\n",
    "    @staticmethod\n",
    "    def get_drift_detector(name: str, provided_detector=None):\n",
    "        name = name.lower()\n",
    "        if name == \"adwin\":\n",
    "            return drift.ADWIN()\n",
    "        elif name == \"kswin\":\n",
    "            return drift.KSWIN()\n",
    "        elif name == \"dummydriftdetector\":\n",
    "            return drift.DummyDriftDetector()\n",
    "        elif name == \"pagehinkley\":\n",
    "            return drift.PageHinkley()\n",
    "        else:\n",
    "            raise ValueError(f\"Unknown detector\")\n",
    "\n",
    "    @staticmethod\n",
    "    def get_pipeline():\n",
    "        model = tree.HoeffdingTreeClassifier(grace_period=30, max_depth=5)\n",
    "        feature_selector = feature_selection.SelectKBest(k=7, similarity=stats.PearsonCorr())\n",
    "        scaler = preprocessing.StandardScaler()\n",
    "        pipeline = scaler | feature_selector | model\n",
    "        return pipeline\n",
    "\n",
    "    def prediction(self):\n",
    "\n",
    "        for i, (x, y) in enumerate(self.data_stream):\n",
    "\n",
    "            y_pred = self.pipeline.predict_one(x)\n",
    "            self.pipeline.learn_one(x, y)\n",
    "\n",
    "            error = int(y_pred != y) if y_pred is not None else 0\n",
    "            self.drift_detector.update(error)\n",
    "\n",
    "            if y_pred is not None:\n",
    "                self.metric.update(y, y_pred)\n",
    "\n",
    "            if self.drift_detector.drift_detected:\n",
    "                print(f'Drift detected at index {i}! ({self.drift_name})')\n",
    "                \n",
    "\n",
    "        # print(self.metric)\n",
    "\n",
    "        accuracy, metrics_result = self.get_metrics()\n",
    "        print(f'accuracy: {accuracy}')\n",
    "        display(metrics_result)\n",
    "\n",
    "    def get_metrics(self):\n",
    "\n",
    "        classes = sorted(self.metric.cm.classes)\n",
    "\n",
    "        for c in classes:\n",
    "            if c not in self.metric._f1s:\n",
    "                self.metric._f1s[c] = metrics.F1(cm=self.metric.cm, pos_val=c)\n",
    "                \n",
    "        accuracy = round(self.metric._accuracy.get(), 3)\n",
    "\n",
    "        # print(self.metric._f1s)\n",
    "        metrics_result = pd.DataFrame([ [-1, self.metric._f1s[-1].precision.get(), self.metric._f1s[-1].recall.get(), self.metric._f1s[-1].get()],\n",
    "                                        [1, self.metric._f1s[1].precision.get(), self.metric._f1s[1].recall.get(), self.metric._f1s[1].get()]],\n",
    "                                        columns=['class', 'precision', 'recall', 'f1'])\n",
    "        \n",
    "        metrics_result = metrics_result.round(3)\n",
    "\n",
    "        return accuracy, metrics_result\n",
    "    \n"
   ]
  },
  {
   "cell_type": "markdown",
   "id": "a86d2bec",
   "metadata": {},
   "source": [
    "### DATA LOADING"
   ]
  },
  {
   "cell_type": "code",
   "execution_count": 6,
   "id": "f5d2dd72",
   "metadata": {},
   "outputs": [],
   "source": [
    "dataLoader = DataLoader() # if yahoo does not work use \"dataLoader.get_data_locally('AAPL')\"\n",
    "stock_data = dataLoader.pipeline('AAPL')"
   ]
  },
  {
   "cell_type": "markdown",
   "id": "ed552911",
   "metadata": {},
   "source": [
    "### PREDICTION"
   ]
  },
  {
   "cell_type": "code",
   "execution_count": 83,
   "id": "669ed2dd",
   "metadata": {},
   "outputs": [],
   "source": [
    "adwin_detector = drift.ADWIN(delta=0.002, clock=32, max_buckets=5, min_window_length=5, grace_period=10)\n",
    "kswin_detector = drift.KSWIN(alpha = 0.005, window_size = 100, stat_size = 30)\n",
    "page_hinley_detector = drift.PageHinkley(min_instances = 30, delta = 0.005, threshold = 50.0, alpha = 0.9999, mode = \"both\")"
   ]
  },
  {
   "cell_type": "code",
   "execution_count": null,
   "id": "8919fba4",
   "metadata": {},
   "outputs": [
    {
     "name": "stdout",
     "output_type": "stream",
     "text": [
      "Drift detected at index 5752! (adwin)\n",
      "accuracy: 0.529\n"
     ]
    },
    {
     "data": {
      "text/html": [
       "<div>\n",
       "<style scoped>\n",
       "    .dataframe tbody tr th:only-of-type {\n",
       "        vertical-align: middle;\n",
       "    }\n",
       "\n",
       "    .dataframe tbody tr th {\n",
       "        vertical-align: top;\n",
       "    }\n",
       "\n",
       "    .dataframe thead th {\n",
       "        text-align: right;\n",
       "    }\n",
       "</style>\n",
       "<table border=\"1\" class=\"dataframe\">\n",
       "  <thead>\n",
       "    <tr style=\"text-align: right;\">\n",
       "      <th></th>\n",
       "      <th>class</th>\n",
       "      <th>precision</th>\n",
       "      <th>recall</th>\n",
       "      <th>f1</th>\n",
       "    </tr>\n",
       "  </thead>\n",
       "  <tbody>\n",
       "    <tr>\n",
       "      <th>0</th>\n",
       "      <td>-1</td>\n",
       "      <td>0.525</td>\n",
       "      <td>0.593</td>\n",
       "      <td>0.557</td>\n",
       "    </tr>\n",
       "    <tr>\n",
       "      <th>1</th>\n",
       "      <td>1</td>\n",
       "      <td>0.534</td>\n",
       "      <td>0.465</td>\n",
       "      <td>0.497</td>\n",
       "    </tr>\n",
       "  </tbody>\n",
       "</table>\n",
       "</div>"
      ],
      "text/plain": [
       "   class  precision  recall     f1\n",
       "0     -1      0.525   0.593  0.557\n",
       "1      1      0.534   0.465  0.497"
      ]
     },
     "metadata": {},
     "output_type": "display_data"
    }
   ],
   "source": [
    "stock_predictor = StockPredictor(stock_data=stock_data, \n",
    "                                 drift_name='adwin', \n",
    "                                 provided_detector = drift.PageHinkley(min_instances = 30, delta = 0.005, threshold = 50.0, alpha = 0.9999, mode = \"both\"))\n",
    "stock_predictor.prediction()"
   ]
  },
  {
   "cell_type": "code",
   "execution_count": null,
   "id": "24692950",
   "metadata": {},
   "outputs": [],
   "source": [
    "# TODO add tree.StochasticGradientTrees as model\n",
    "# TODO add other models (MLP, RandomForest, XGBoost)\n",
    "# TODO do something when drift occurs\n",
    "# TODO add new drift detectors\n",
    "# TODO grid search of different models and drift detectors\n"
   ]
  }
 ],
 "metadata": {
  "kernelspec": {
   "display_name": ".datastreams",
   "language": "python",
   "name": "python3"
  },
  "language_info": {
   "codemirror_mode": {
    "name": "ipython",
    "version": 3
   },
   "file_extension": ".py",
   "mimetype": "text/x-python",
   "name": "python",
   "nbconvert_exporter": "python",
   "pygments_lexer": "ipython3",
   "version": "3.13.3"
  }
 },
 "nbformat": 4,
 "nbformat_minor": 5
}
